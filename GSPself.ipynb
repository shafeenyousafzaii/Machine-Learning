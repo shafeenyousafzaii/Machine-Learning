{
  "cells": [
    {
      "cell_type": "markdown",
      "metadata": {
        "id": "_PtC790qlUX_"
      },
      "source": [
        "\n",
        "# Generalized Sequential Pattern (GSP) Mining\n",
        "\n",
        "Apriori-based method: GSP (Generalized\n",
        "Sequential Patterns: Srikant & Agrawal)\n"
      ]
    },
    {
      "cell_type": "markdown",
      "metadata": {
        "id": "ZTVytlhXlUYA"
      },
      "source": [
        "<font color='cyan'> **Steps for Implementing GSP Mining** </font>\n",
        "\n",
        "  Generate frequent events\n",
        "\n",
        " Repeat until no sequences can be generated:\n",
        "> **1-** Generate candidate sequences.\n",
        "\n",
        "> **2-** Candidate Pruning.\n",
        "\n",
        "> **3-** Calculate support.\n",
        "\n",
        "> **4-** Support pruning.\n",
        "\n",
        "\n"
      ]
    },
    {
      "cell_type": "code",
      "execution_count": null,
      "metadata": {
        "id": "9Z9WTp89lUYA"
      },
      "outputs": [],
      "source": [
        "import copy\n",
        "import numpy as np\n",
        "import pandas as pd\n",
        "from operator import neg"
      ]
    },
    {
      "cell_type": "markdown",
      "metadata": {
        "id": "llkRY0xelUYB"
      },
      "source": [
        "### Dataset\n",
        "\n",
        "| Seq. ID | Sequence |\n",
        "|:--------------:|--------------:|\n",
        "| 10 | <{bd}{c}{b}> |\n",
        "| 20 | <{bf}{ce}{b}>|\n",
        "| 30 | <{ag}{bf}> |\n",
        "| 40 | <{be}{ce}> |\n",
        "| 50 | <{a}{bd}{b}{c}{b}>|\n"
      ]
    },
    {
      "cell_type": "code",
      "execution_count": null,
      "metadata": {
        "notebookRunGroups": {
          "groupValue": ""
        },
        "id": "K5gV6s6ElUYB"
      },
      "outputs": [],
      "source": [
        "dataset = [\n",
        "    # sequence: list of events\n",
        "    # event: [list of strings]\n",
        "\n",
        "    [['b','d'], ['c'], ['b']],\n",
        "    [['b' , 'f'], ['c','e'], ['b']],\n",
        "    [['a', 'g'], ['b','f']],\n",
        "    [['b','e'], ['c','e']],\n",
        "    [['a'], ['b','d'],['b'],['c'],['b']]\n",
        "]"
      ]
    },
    {
      "cell_type": "markdown",
      "metadata": {
        "id": "O7lCUz6MlUYB"
      },
      "source": [
        "### Definition of a Sequence\n",
        "\n",
        "A sequence is an ordered list of elements\n",
        "> s = < e1 e2 e3 … >\n",
        "\n",
        "• Each element contains a collection of events\n",
        "(items)\n",
        "> ei = {i1, i2, …, ik}\n",
        "\n",
        "• Length of a sequence, |s|, is given by the\n",
        "number of elements in the sequence\n",
        "\n",
        "• A k-sequence is a sequence that contains k\n",
        "events (items)\n",
        "5\n",
        "\n",
        "***"
      ]
    },
    {
      "cell_type": "markdown",
      "metadata": {
        "id": "wnzpT-zolUYB"
      },
      "source": [
        "### Subsequences\n",
        "•Sequence t is a subsequence of s if each\n",
        "ordered element in t is a subset of an\n",
        "ordered element in s.\n",
        "\n",
        "• Examples:\n",
        "\n",
        "> <{1}{2}> is a subsequence of <{1}{2,3}{4}>\n",
        "\n",
        "> <{1}{4}> is a subsequence of <{1}{2,3}{4}>\n",
        "\n",
        "> But <{1}{2}{3}> is not a subsequence of <{1}{2,3}{4}>"
      ]
    },
    {
      "cell_type": "markdown",
      "metadata": {
        "id": "MpEP_JWhlUYC"
      },
      "source": [
        "\n",
        "Sequence A |Sequence B |Is B subsequence of A?\n",
        "-----|-----|-----\n",
        "<{2,4} {3,5,6} {8}>|<{2} {3,6} {8}>|<font color='green'> **Yes** </font>\n",
        "<{2,4} {3,5,6} {8}>|<{2} {8}>|<font color='green'> **Yes**  </font>\n",
        "<{1,2} {3,4}>|<{1} {2}>|<font color='red'> **No**  </font>\n",
        "<{2,4} {2,4} {2,5}>|<{2} {4}>|<font color='green'> **Yes**  </font>"
      ]
    },
    {
      "cell_type": "code",
      "execution_count": null,
      "metadata": {
        "id": "jKm0U7SSlUYC"
      },
      "outputs": [],
      "source": [
        "def is_subsequence(main_sequence, subsequence):\n",
        "\n",
        "    def is_subsequence_recursive(subsequence_clone, start=0):\n",
        "\n",
        "        # check if empty: end of recursion, all itemsets have been found\n",
        "        if not subsequence_clone:\n",
        "            return True\n",
        "        # retrieves element of the subsequence and removes it from subsequence\n",
        "        first_elem = set(subsequence_clone.pop(0))\n",
        "        # search for the first itemset...\n",
        "        for i in range(start, len(main_sequence)):\n",
        "            if set(main_sequence[i]).issuperset(first_elem):\n",
        "                # and recurse\n",
        "                return is_subsequence_recursive(subsequence_clone, i + 1)\n",
        "        return False\n",
        "\n",
        "    return is_subsequence_recursive(subsequence.copy())"
      ]
    },
    {
      "cell_type": "code",
      "execution_count": null,
      "metadata": {
        "id": "V_B6k6aDlUYC"
      },
      "outputs": [],
      "source": [
        "sequence = [['a'], ['b', 'c'], ['d'], ['a', 'e']]"
      ]
    },
    {
      "cell_type": "code",
      "execution_count": null,
      "metadata": {
        "jupyter": {
          "outputs_hidden": false
        },
        "colab": {
          "base_uri": "https://localhost:8080/"
        },
        "id": "PsSdEv6PlUYC",
        "outputId": "1fffc17b-0752-46cb-b1b0-5c905a3d41ad"
      },
      "outputs": [
        {
          "output_type": "execute_result",
          "data": {
            "text/plain": [
              "True"
            ]
          },
          "metadata": {},
          "execution_count": 16
        }
      ],
      "source": [
        "subsequence = [['a'], ['b', 'c'], ['e']]\n",
        "is_subsequence(sequence,subsequence)"
      ]
    },
    {
      "cell_type": "code",
      "execution_count": null,
      "metadata": {
        "jupyter": {
          "outputs_hidden": false
        },
        "colab": {
          "base_uri": "https://localhost:8080/"
        },
        "id": "-OnA7dY4lUYD",
        "outputId": "f7116a9d-2288-43b0-bf19-118628b4b6e1"
      },
      "outputs": [
        {
          "output_type": "execute_result",
          "data": {
            "text/plain": [
              "False"
            ]
          },
          "metadata": {},
          "execution_count": 17
        }
      ],
      "source": [
        "subsequence = [['a'], ['b', 'd']]\n",
        "is_subsequence(sequence,subsequence)"
      ]
    },
    {
      "cell_type": "markdown",
      "metadata": {
        "id": "z0-kUI4OlUYD"
      },
      "source": [
        "## Sequence Length"
      ]
    },
    {
      "cell_type": "code",
      "execution_count": null,
      "metadata": {
        "id": "YqZtvg2qlUYD"
      },
      "outputs": [],
      "source": [
        "def sequence_length(sequence):\n",
        "\n",
        "    return sum(len(i) for i in sequence)"
      ]
    },
    {
      "cell_type": "code",
      "execution_count": null,
      "metadata": {
        "jupyter": {
          "outputs_hidden": false
        },
        "colab": {
          "base_uri": "https://localhost:8080/"
        },
        "id": "D1pXKBxZlUYD",
        "outputId": "c4b5fdab-21be-4a8c-8f57-79868aab68bb"
      },
      "outputs": [
        {
          "output_type": "execute_result",
          "data": {
            "text/plain": [
              "7"
            ]
          },
          "metadata": {},
          "execution_count": 19
        }
      ],
      "source": [
        "sequence_length([['a'], ['b', 'c'], ['a'], ['b', 'c', 'd']])"
      ]
    },
    {
      "cell_type": "markdown",
      "metadata": {
        "tags": [],
        "id": "hmwXssh0lUYD"
      },
      "source": [
        "## Timing Constraints\n",
        "\n",
        "### Maximum Span\n",
        "\n",
        "Maximum time between latest and earliest\n",
        "events in a sequence.\n",
        "> It affects the support count step.\n",
        "\n",
        "> Example: if maxspan is 3\n",
        "\n",
        "Sequence A |Sequence B |Is B subsequence of A?\n",
        "-----|-----|-----\n",
        "<{1,3}{3,4}{4}{5}{6,7}{8}>|<{3} {4}>|<font color='green'> **Yes** </font>\n",
        "<{1,3}{3,4}{4}{5}{6,7}{8}>|<{3} {6}>|<font color='green'> **Yes**  </font>\n",
        "<{1,3}{3,4}{4}{5}{6,7}{8}>|<{1,3} {6}>|<font color='red'> **No**  </font>\n",
        "\n",
        "\n",
        "### Minimum & Maximum Gap\n",
        "\n",
        "The gap is the time between two consecutive\n",
        "elements.\n",
        "> mingap of zero means elements must occur immediately after each other.\n",
        "\n",
        "> Example: If mingap=1 and maxgap=3.\n",
        "\n",
        "Sequence A |Sequence B |min gap | max gap\n",
        "-----|-----|-----|---\n",
        "<{1,3}{3,4}{4}{5}{6,7}{8}>|<{3} {6}>|<font color='green'> **PASS** </font>|<font color='green'> **PASS** </font>\n",
        "<{1,3}{3,4}{4}{5}{6,7}{8}>|<{6} {8}>|<font color='red'> **Fail**  </font>|<font color='green'> **PASS** </font>\n",
        "<{1,3}{3,4}{4}{5}{6,7}{8}>|<{1,3} {6}>|<font color='green'> **PASS**  </font>|<font color='red'> **Fail** </font>\n",
        "<{1,3}{3,4}{4}{5}{6,7}{8}>|<{1} {3} {8}>|<font color='red'> **Fail**  </font>|<font color='red'> **Fail** </font>"
      ]
    },
    {
      "cell_type": "code",
      "execution_count": null,
      "metadata": {
        "id": "AxO16EbTlUYD"
      },
      "outputs": [],
      "source": [
        "def supports(sequence, cand_seq, max_span=np.inf, min_gap=0, max_gap=np.inf):\n",
        "    for idx, event in enumerate(sequence):\n",
        "        i = 0\n",
        "        if set(event[1] if isinstance(event, tuple) else event).issuperset(cand_seq[i]):\n",
        "            min_t = event[0] if isinstance(event, tuple) else idx\n",
        "            i += 1\n",
        "\n",
        "            # special case if cand_seq is a sequence of one element\n",
        "            if i == len(cand_seq):\n",
        "                return True\n",
        "\n",
        "            prev_t = event[0] if isinstance(event, tuple) else idx\n",
        "\n",
        "            for t, itemset in (sequence[idx + 1:] if isinstance(sequence[idx], tuple)\n",
        "                               else enumerate(sequence[idx + 1:], start=idx + 1)):\n",
        "\n",
        "                # the min_gap constraint is violated\n",
        "                if not t - prev_t > min_gap:\n",
        "                    continue\n",
        "\n",
        "                # the max_gap constraint is violated\n",
        "                if not t - prev_t <= max_gap:\n",
        "                    break\n",
        "\n",
        "                # the max_span constraint is violated\n",
        "                if t - min_t > max_span:\n",
        "                    break\n",
        "\n",
        "                if set(itemset).issuperset(cand_seq[i]):\n",
        "                    i += 1\n",
        "\n",
        "                # the sequence satisfies all the time constraints\n",
        "                if i == len(cand_seq):\n",
        "                    return True\n",
        "    return False"
      ]
    },
    {
      "cell_type": "code",
      "execution_count": null,
      "metadata": {
        "id": "yJA1N17ulUYE"
      },
      "outputs": [],
      "source": [
        "sequence = [[1, 3], [3, 4], [4], [5], [6, 7], [8]]"
      ]
    },
    {
      "cell_type": "code",
      "execution_count": null,
      "metadata": {
        "colab": {
          "base_uri": "https://localhost:8080/"
        },
        "id": "TB510YpelUYE",
        "outputId": "46eb21af-8aac-469b-f119-56b2ce117af5"
      },
      "outputs": [
        {
          "output_type": "stream",
          "name": "stdout",
          "text": [
            "True\n",
            "True\n",
            "False\n"
          ]
        }
      ],
      "source": [
        "print(supports(sequence, [[3], [4]], max_span=3))\n",
        "print(supports(sequence, [[3], [6]], max_span=3))\n",
        "print(supports(sequence, [[1, 3], [6]], max_span=3))"
      ]
    },
    {
      "cell_type": "code",
      "execution_count": null,
      "metadata": {
        "colab": {
          "base_uri": "https://localhost:8080/"
        },
        "id": "6ZruryeHlUYE",
        "outputId": "95d3030f-27e6-402e-9616-35e369ec8b0d"
      },
      "outputs": [
        {
          "output_type": "stream",
          "name": "stdout",
          "text": [
            "True\n",
            "True\n"
          ]
        }
      ],
      "source": [
        "print(supports(sequence, [[3], [6]], min_gap=1))\n",
        "print(supports(sequence, [[3], [6]], max_gap=3))"
      ]
    },
    {
      "cell_type": "code",
      "execution_count": null,
      "metadata": {
        "colab": {
          "base_uri": "https://localhost:8080/"
        },
        "id": "7_KGRfcZlUYE",
        "outputId": "a5374ec4-b597-4a79-8c79-b4b11675e66f"
      },
      "outputs": [
        {
          "output_type": "stream",
          "name": "stdout",
          "text": [
            "False\n",
            "True\n"
          ]
        }
      ],
      "source": [
        "print(supports(sequence, [[6], [8]], min_gap=1))\n",
        "print(supports(sequence, [[6], [8]], max_gap=3))"
      ]
    },
    {
      "cell_type": "code",
      "execution_count": null,
      "metadata": {
        "colab": {
          "base_uri": "https://localhost:8080/"
        },
        "id": "czfVFJWClUYE",
        "outputId": "652137ea-ef9f-49dc-dfdf-2f03e77fb371"
      },
      "outputs": [
        {
          "output_type": "stream",
          "name": "stdout",
          "text": [
            "True\n",
            "False\n"
          ]
        }
      ],
      "source": [
        "print(supports(sequence, [[1, 3], [6]], min_gap=1))\n",
        "print(supports(sequence, [[1, 3], [6]], max_gap=3))"
      ]
    },
    {
      "cell_type": "code",
      "execution_count": null,
      "metadata": {
        "colab": {
          "base_uri": "https://localhost:8080/"
        },
        "id": "fkcAEglzlUYE",
        "outputId": "70a7c667-e5e4-4025-ed70-39ecd8cf040e"
      },
      "outputs": [
        {
          "output_type": "stream",
          "name": "stdout",
          "text": [
            "False\n",
            "False\n"
          ]
        }
      ],
      "source": [
        "print(supports(sequence, [[1], [3], [8]], min_gap=1))\n",
        "print(supports(sequence, [[1], [3], [8]], max_gap=3))"
      ]
    },
    {
      "cell_type": "code",
      "execution_count": null,
      "metadata": {
        "colab": {
          "base_uri": "https://localhost:8080/"
        },
        "id": "bcsBmVxvlUYE",
        "outputId": "24d568e3-b7ef-49ba-9da1-b01b129738cd"
      },
      "outputs": [
        {
          "output_type": "execute_result",
          "data": {
            "text/plain": [
              "True"
            ]
          },
          "metadata": {},
          "execution_count": 27
        }
      ],
      "source": [
        "supports([[2, 4], [3, 5, 6], [4, 7], [4, 5], [8]], [[6], [5]], max_span=4, min_gap=0, max_gap=2)"
      ]
    },
    {
      "cell_type": "code",
      "execution_count": null,
      "metadata": {
        "colab": {
          "base_uri": "https://localhost:8080/"
        },
        "id": "yQzQsgH3lUYE",
        "outputId": "16854629-7091-4d1e-d331-ebd90ad78639"
      },
      "outputs": [
        {
          "output_type": "execute_result",
          "data": {
            "text/plain": [
              "False"
            ]
          },
          "metadata": {},
          "execution_count": 28
        }
      ],
      "source": [
        "supports([[1], [2], [3], [4], [5]], [[1], [4]], max_span=4, min_gap=0, max_gap=2)"
      ]
    },
    {
      "cell_type": "code",
      "execution_count": null,
      "metadata": {
        "colab": {
          "base_uri": "https://localhost:8080/"
        },
        "id": "nroEQGymlUYF",
        "outputId": "f572c140-ab0e-40d4-97f8-60ba5616f023"
      },
      "outputs": [
        {
          "output_type": "execute_result",
          "data": {
            "text/plain": [
              "True"
            ]
          },
          "metadata": {},
          "execution_count": 29
        }
      ],
      "source": [
        "supports([[1], [2, 3], [3, 4], [4, 5]], [[2], [3], [5]], max_span=4, min_gap=0, max_gap=2)"
      ]
    },
    {
      "cell_type": "code",
      "execution_count": null,
      "metadata": {
        "colab": {
          "base_uri": "https://localhost:8080/"
        },
        "id": "tbC_KrE7lUYF",
        "outputId": "352013a4-b76f-45cc-997b-0bda259df639"
      },
      "outputs": [
        {
          "output_type": "execute_result",
          "data": {
            "text/plain": [
              "False"
            ]
          },
          "metadata": {},
          "execution_count": 30
        }
      ],
      "source": [
        "supports([[1, 2], [3], [2, 3], [3, 4], [2, 4], (6, [4, 5])], [[1, 2], [5]], max_span=4, min_gap=0, max_gap=2)"
      ]
    },
    {
      "cell_type": "markdown",
      "metadata": {
        "id": "-_5XyrAflUYF"
      },
      "source": [
        "# Support Count"
      ]
    },
    {
      "cell_type": "code",
      "execution_count": null,
      "metadata": {
        "id": "NR7CWUQ9lUYF"
      },
      "outputs": [],
      "source": [
        "def count_support(dataset, cand_seq, max_span=np.inf, min_gap=0, max_gap=np.inf):\n",
        "\n",
        "    if max_span == np.inf and min_gap == 0 and max_gap == np.inf: # no time constraints\n",
        "\n",
        "        return sum(1 for seq in dataset if is_subsequence([event[1] for event in seq] if isinstance(seq[0], tuple) else seq, cand_seq))\n",
        "    else:\n",
        "        return sum(1 for seq in dataset if supports(seq, cand_seq, max_span, min_gap, max_gap))"
      ]
    },
    {
      "cell_type": "code",
      "execution_count": null,
      "metadata": {
        "jupyter": {
          "outputs_hidden": false
        },
        "colab": {
          "base_uri": "https://localhost:8080/"
        },
        "id": "CkDkIlTylUYF",
        "outputId": "993b87b6-68f7-4801-86b6-69c1a5f058a5"
      },
      "outputs": [
        {
          "output_type": "execute_result",
          "data": {
            "text/plain": [
              "5"
            ]
          },
          "metadata": {},
          "execution_count": 32
        }
      ],
      "source": [
        "count_support(dataset, [['b']])"
      ]
    },
    {
      "cell_type": "code",
      "execution_count": null,
      "metadata": {
        "jupyter": {
          "outputs_hidden": false
        },
        "colab": {
          "base_uri": "https://localhost:8080/"
        },
        "id": "9xq3Dz1_lUYF",
        "outputId": "1610d5cb-7be1-424b-af21-68d4fd9f859b"
      },
      "outputs": [
        {
          "output_type": "execute_result",
          "data": {
            "text/plain": [
              "0"
            ]
          },
          "metadata": {},
          "execution_count": 33
        }
      ],
      "source": [
        "count_support(dataset, [['a'], ['b', 'c']])"
      ]
    },
    {
      "cell_type": "markdown",
      "metadata": {
        "id": "IJ02xMhxlUYF"
      },
      "source": [
        " ### Generate candidate sequences.\n",
        "\n",
        "\n",
        "\n",
        "    Generates one candidate of length k from two candidates of length (k-1)\n",
        "\n"
      ]
    },
    {
      "cell_type": "code",
      "execution_count": null,
      "metadata": {
        "id": "KCBhXj31lUYF"
      },
      "outputs": [],
      "source": [
        "def gen_cands_for_pair(cand1, cand2):\n",
        "\n",
        "    cand1_clone = copy.deepcopy(cand1)\n",
        "    cand2_clone = copy.deepcopy(cand2)\n",
        "    # drop the leftmost item from cand1:\n",
        "    if len(cand1[0]) == 1:\n",
        "        cand1_clone.pop(0)\n",
        "    else:\n",
        "        cand1_clone[0] = cand1_clone[0][1:]\n",
        "    # drop the rightmost item from cand2:\n",
        "    if len(cand2[-1]) == 1:\n",
        "        cand2_clone.pop(-1)\n",
        "    else:\n",
        "        cand2_clone[-1] = cand2_clone[-1][:-1]\n",
        "\n",
        "    # if the result is not the same, then we dont need to join\n",
        "    if not cand1_clone == cand2_clone:\n",
        "        return []\n",
        "    else:\n",
        "        new_cand = copy.deepcopy(cand1)\n",
        "        if len(cand2[-1]) == 1:\n",
        "            new_cand.append(cand2[-1])\n",
        "        else:\n",
        "            new_cand[-1].extend([cand2[-1][-1]])\n",
        "        return new_cand"
      ]
    },
    {
      "cell_type": "code",
      "execution_count": null,
      "metadata": {
        "jupyter": {
          "outputs_hidden": false
        },
        "colab": {
          "base_uri": "https://localhost:8080/"
        },
        "id": "sxjbwGhHlUYG",
        "outputId": "a18db1ee-3cd8-44c8-dbc7-461667e73a89"
      },
      "outputs": [
        {
          "output_type": "execute_result",
          "data": {
            "text/plain": [
              "[['a'], ['b', 'c'], ['d', 'e']]"
            ]
          },
          "metadata": {},
          "execution_count": 35
        }
      ],
      "source": [
        "candA = [['a'], ['b', 'c'], ['d']]\n",
        "candB = [['b', 'c'], ['d', 'e']]\n",
        "gen_cands_for_pair(candA, candB)"
      ]
    },
    {
      "cell_type": "code",
      "execution_count": null,
      "metadata": {
        "jupyter": {
          "outputs_hidden": false
        },
        "colab": {
          "base_uri": "https://localhost:8080/"
        },
        "id": "f4yJffeflUYG",
        "outputId": "8d8ab3b0-5158-48e1-a6e0-a832660bea8c"
      },
      "outputs": [
        {
          "output_type": "execute_result",
          "data": {
            "text/plain": [
              "[['a'], ['b', 'c'], ['d'], ['e']]"
            ]
          },
          "metadata": {},
          "execution_count": 36
        }
      ],
      "source": [
        "candA = [['a'], ['b', 'c'], ['d']]\n",
        "candC = [['b', 'c'], ['d'], ['e']]\n",
        "gen_cands_for_pair(candA, candC)"
      ]
    },
    {
      "cell_type": "code",
      "execution_count": null,
      "metadata": {
        "jupyter": {
          "outputs_hidden": false
        },
        "colab": {
          "base_uri": "https://localhost:8080/"
        },
        "id": "_hXKtZ92lUYG",
        "outputId": "241ac0cf-dc2e-4201-81ac-f325fe1d7582"
      },
      "outputs": [
        {
          "output_type": "execute_result",
          "data": {
            "text/plain": [
              "[]"
            ]
          },
          "metadata": {},
          "execution_count": 37
        }
      ],
      "source": [
        "candA = [['a'], ['b', 'c'], ['d']]\n",
        "candD = [['a'], ['b', 'c'], ['e']]\n",
        "gen_cands_for_pair(candA, candD)"
      ]
    },
    {
      "cell_type": "markdown",
      "metadata": {
        "id": "IyoSdASGlUYG"
      },
      "source": [
        " ### Generate candidate sequences.\n",
        "\n",
        "\n",
        "\n",
        "    Generates the set of candidates of length k from the set of frequent sequences with length (k-1)"
      ]
    },
    {
      "cell_type": "code",
      "execution_count": null,
      "metadata": {
        "id": "xeLiTGbDlUYG"
      },
      "outputs": [],
      "source": [
        "def gen_cands(last_lvl_cands):\n",
        "\n",
        "    k = sequence_length(last_lvl_cands[0]) + 1\n",
        "    if k == 2:\n",
        "        flat_short_cands = [item for sublist2 in last_lvl_cands for sublist1 in sublist2 for item in sublist1]\n",
        "        result = [[[a, b]] for a in flat_short_cands for b in flat_short_cands if b > a]\n",
        "        result.extend([[[a], [b]] for a in flat_short_cands for b in flat_short_cands])\n",
        "        return result\n",
        "    else:\n",
        "        cands = []\n",
        "        for i in range(0, len(last_lvl_cands)):\n",
        "            for j in range(0, len(last_lvl_cands)):\n",
        "                new_cand = gen_cands_for_pair(last_lvl_cands[i], last_lvl_cands[j])\n",
        "                if not new_cand == []:\n",
        "                    cands.append(new_cand)\n",
        "        cands.sort()\n",
        "        return cands"
      ]
    },
    {
      "cell_type": "markdown",
      "metadata": {
        "id": "LNaUkUwslUYG"
      },
      "source": [
        "Lets assume we know the frequent sequences of level 2:"
      ]
    },
    {
      "cell_type": "code",
      "execution_count": null,
      "metadata": {
        "id": "mg2kWkq2lUYH"
      },
      "outputs": [],
      "source": [
        "last_lvl_freq_patterns = [\n",
        "\n",
        "    [['a', 'b']],\n",
        "    [['b', 'c']],\n",
        "    [['a'], ['b']],\n",
        "    [['a'], ['c']],\n",
        "    [['b'], ['c']],\n",
        "    [['c'], ['b']],\n",
        "    [['c'], ['c']]\n",
        "]"
      ]
    },
    {
      "cell_type": "markdown",
      "metadata": {
        "id": "NvBrwoiclUYH"
      },
      "source": [
        "Then we can compute the generate candidates for level 3:"
      ]
    },
    {
      "cell_type": "code",
      "execution_count": null,
      "metadata": {
        "jupyter": {
          "outputs_hidden": false
        },
        "colab": {
          "base_uri": "https://localhost:8080/"
        },
        "id": "4R7RCjr8lUYH",
        "outputId": "fc7c6456-5c69-4515-f28f-f2d4facb54de"
      },
      "outputs": [
        {
          "output_type": "execute_result",
          "data": {
            "text/plain": [
              "[[['a'], ['b'], ['c']],\n",
              " [['a'], ['b', 'c']],\n",
              " [['a'], ['c'], ['b']],\n",
              " [['a'], ['c'], ['c']],\n",
              " [['a', 'b'], ['c']],\n",
              " [['a', 'b', 'c']],\n",
              " [['b'], ['c'], ['b']],\n",
              " [['b'], ['c'], ['c']],\n",
              " [['b', 'c'], ['b']],\n",
              " [['b', 'c'], ['c']],\n",
              " [['c'], ['b'], ['c']],\n",
              " [['c'], ['b', 'c']],\n",
              " [['c'], ['c'], ['b']],\n",
              " [['c'], ['c'], ['c']]]"
            ]
          },
          "metadata": {},
          "execution_count": 40
        }
      ],
      "source": [
        "new_cands = gen_cands(last_lvl_freq_patterns)\n",
        "new_cands"
      ]
    },
    {
      "cell_type": "code",
      "execution_count": null,
      "metadata": {
        "id": "h4BQc9c_lUYH"
      },
      "outputs": [],
      "source": [
        "def gen_direct_subsequences(sequence):\n",
        "\n",
        "    result = []\n",
        "    for i, itemset in enumerate(sequence):\n",
        "        if len(itemset) == 1:\n",
        "            seq_clone = copy.deepcopy(sequence)\n",
        "            seq_clone.pop(i)\n",
        "            result.append(seq_clone)\n",
        "        else:\n",
        "            for j in range(len(itemset)):\n",
        "                seq_clone = copy.deepcopy(sequence)\n",
        "                seq_clone[i].pop(j)\n",
        "                result.append(seq_clone)\n",
        "    return result"
      ]
    },
    {
      "cell_type": "code",
      "execution_count": null,
      "metadata": {
        "id": "vtxA3w9WlUYH"
      },
      "outputs": [],
      "source": [
        "def gen_contiguous_direct_subsequences(sequence):\n",
        "\n",
        "    result = []\n",
        "    for i, itemset in enumerate(sequence):\n",
        "        # first or last element\n",
        "        if i == 0 or i == len(sequence) - 1:\n",
        "            if len(itemset) == 1:\n",
        "                seq_clone = copy.deepcopy(sequence)\n",
        "                seq_clone.pop(i)\n",
        "                result.append(seq_clone)\n",
        "            else:\n",
        "                for j in range(len(itemset)):\n",
        "                    seq_clone = copy.deepcopy(sequence)\n",
        "                    seq_clone[i].pop(j)\n",
        "                    result.append(seq_clone)\n",
        "        else:  # middle element\n",
        "            if len(itemset) > 1:\n",
        "                for j in range(len(itemset)):\n",
        "                    seq_clone = copy.deepcopy(sequence)\n",
        "                    seq_clone[i].pop(j)\n",
        "                    result.append(seq_clone)\n",
        "    return result"
      ]
    },
    {
      "cell_type": "markdown",
      "metadata": {
        "id": "C508rzTIlUYH"
      },
      "source": [
        "# Candidate Pruning."
      ]
    },
    {
      "cell_type": "code",
      "execution_count": null,
      "metadata": {
        "id": "8Q0nhTHqlUYH"
      },
      "outputs": [],
      "source": [
        "def prune_cands(last_lvl_cands, cands_gen, max_gap=np.inf):\n",
        "\n",
        "    return [cand for cand in cands_gen if all(x in last_lvl_cands for x in (gen_contiguous_direct_subsequences(cand) if max_gap != np.inf\n",
        "                                                                            else gen_direct_subsequences(cand)))]"
      ]
    },
    {
      "cell_type": "code",
      "execution_count": null,
      "metadata": {
        "jupyter": {
          "outputs_hidden": false
        },
        "colab": {
          "base_uri": "https://localhost:8080/"
        },
        "id": "kQRwPtVFlUYI",
        "outputId": "d7e88cb3-9b21-45a3-a97c-7d286da0d4db"
      },
      "outputs": [
        {
          "output_type": "execute_result",
          "data": {
            "text/plain": [
              "[[['a'], ['b'], ['c']],\n",
              " [['a'], ['b', 'c']],\n",
              " [['a'], ['c'], ['b']],\n",
              " [['a'], ['c'], ['c']],\n",
              " [['a', 'b'], ['c']],\n",
              " [['b'], ['c'], ['c']],\n",
              " [['b', 'c'], ['c']],\n",
              " [['c'], ['b'], ['c']],\n",
              " [['c'], ['b', 'c']],\n",
              " [['c'], ['c'], ['b']],\n",
              " [['c'], ['c'], ['c']]]"
            ]
          },
          "metadata": {},
          "execution_count": 44
        }
      ],
      "source": [
        "cands_pruned = prune_cands(last_lvl_freq_patterns, new_cands)\n",
        "cands_pruned"
      ]
    },
    {
      "cell_type": "code",
      "execution_count": null,
      "metadata": {
        "jupyter": {
          "outputs_hidden": false
        },
        "colab": {
          "base_uri": "https://localhost:8080/"
        },
        "id": "TEot1HFslUYI",
        "outputId": "c8db4c7f-2b93-41e2-ea7a-4bc7669ac4d1"
      },
      "outputs": [
        {
          "output_type": "execute_result",
          "data": {
            "text/plain": [
              "[]"
            ]
          },
          "metadata": {},
          "execution_count": 45
        }
      ],
      "source": [
        "min_sup = 0.4\n",
        "cands_counts = [(s, count_support(dataset, s)) for s in cands_pruned]\n",
        "result_lvl = [(i, count) for i, count in cands_counts if count >= min_sup * len(dataset)]\n",
        "result_lvl"
      ]
    },
    {
      "cell_type": "code",
      "execution_count": null,
      "metadata": {
        "jupyter": {
          "outputs_hidden": false
        },
        "id": "VtgUkqJIlUYI"
      },
      "outputs": [],
      "source": [
        "def gsp(dataset, min_sup, max_span=np.inf, min_gap=0, max_gap=np.inf, verbose=False):\n",
        "\n",
        "    overall = []\n",
        "    min_sup *= len(dataset)\n",
        "    # make the first pass over the sequence database to yield all the 1-element frequent subsequences\n",
        "    items = sorted(set([item for sequence in dataset\n",
        "                        for event in sequence\n",
        "                        for item in (event[1] if isinstance(event, tuple) else event)]))\n",
        "    single_item_sequences = [[[item]] for item in items]\n",
        "    single_item_counts = [(s, count_support(dataset, s)) for s in single_item_sequences]\n",
        "    single_item_counts = [(i, count) for i, count in single_item_counts if count >= min_sup]\n",
        "    overall.append(single_item_counts)\n",
        "    if verbose > 0:\n",
        "        print('Result, lvl 1: ' + str(overall[0]))\n",
        "        print('--------------------------------------------------------------------------------------------------')\n",
        "    k = 1\n",
        "    while overall[k - 1]:\n",
        "        # 1. candidate generation: merge pairs of frequent subsequences found in the\n",
        "        # (k-1)th pass to generate candidate sequences that contain k items\n",
        "        last_lvl_cands = [x[0] for x in overall[k - 1]]\n",
        "        cands_gen = gen_cands(last_lvl_cands)\n",
        "        # 2. candidate pruning: prune candidate k-sequences that contain infrequent\n",
        "        # (contiguous) (k-1)-subsequences (Apriori principle)\n",
        "        cands_pruned = prune_cands(last_lvl_cands, cands_gen, max_gap)\n",
        "        # 3. support counting: make a new pass over the sequence database to find\n",
        "        # the support for these candidate sequences\n",
        "        cands_counts = [(s, count_support(dataset, s, max_span, min_gap, max_gap)) for s in cands_pruned]\n",
        "        # 4. candidate elimination: eliminate candidate k-sequences whose actual\n",
        "        # support is less than `minsup`\n",
        "        result_lvl = [(i, count) for i, count in cands_counts if count >= min_sup]\n",
        "        if verbose > 1:\n",
        "\n",
        "            print('Result, LeveL ' + str(k + 1) + ': ' + str(result_lvl))\n",
        "            print('--------------------------------------------------------------------------------------------------')\n",
        "            if verbose > 1:\n",
        "                print('Candidates generated, lvl ' + str(k + 1) + ': ' + str(cands_gen))\n",
        "                print('\\n')\n",
        "                print('Candidates pruned, lvl ' + str(k + 1) + ': ' + str(cands_pruned))\n",
        "\n",
        "        overall.append(result_lvl)\n",
        "        k += 1\n",
        "    # \"flatten\" overall\n",
        "    overall = overall[:-1]\n",
        "    overall = [item for sublist in overall for item in sublist]\n",
        "    overall.sort(key=lambda tup: (tup[1], neg(sequence_length(tup[0]))), reverse=True)\n",
        "    return overall"
      ]
    },
    {
      "cell_type": "markdown",
      "metadata": {
        "id": "t39JKZcvlUYI"
      },
      "source": [
        "### LeveL 1 (Frequent 1-sequences)\n",
        "\n",
        "| Event | count |\n",
        "|:------------:|-----------:|\n",
        "| a | 2 |\n",
        "| b | 5|\n",
        "| c | 4 |\n",
        "| d | 2|\n",
        "| e | 2|\n",
        "| f | 2|\n",
        "\n",
        "### LeveL 2 (Frequent 2-sequences)\n",
        "\n",
        "| Seq | count |\n",
        "|:------------:|-----------:|\n",
        "| {b}{b} | 3 |\n",
        "| {a}{b} | 2|\n",
        "| {b}{c}| 4 |\n",
        "| {c}{b} | 3|\n",
        "| {bd} | 2|\n",
        "| {d}{b} | 2|\n",
        "| {a}{b} | 2|\n",
        "| {b}{e} | 2|\n",
        "| {d}{c} | 2|\n",
        "| {ce} | 2|\n",
        "\n",
        "### LeveL 3 (Frequent 3-sequences)\n",
        "\n",
        "| Event | count |\n",
        "|:------------:|-----------:|\n",
        "| {b}{c}{b} | 3 |\n",
        "| {b}{ce} | 2|\n",
        "| {bd}{b} | 2 |\n",
        "| {bd}{c} | 2|\n",
        "| {d}{c}{b} | 2|\n",
        "\n",
        "\n",
        "### LeveL 4 (Frequent 4-sequences)\n",
        "\n",
        "| Event | count |\n",
        "|:------------:|-----------:|\n",
        "| {bd}{c}{b} | 2 |\n",
        "\n"
      ]
    },
    {
      "cell_type": "code",
      "execution_count": null,
      "metadata": {
        "jupyter": {
          "outputs_hidden": false
        },
        "colab": {
          "base_uri": "https://localhost:8080/"
        },
        "id": "HKag1fgvlUYI",
        "outputId": "b53f555a-6ed4-4a5c-9811-6c9f6560da00"
      },
      "outputs": [
        {
          "output_type": "stream",
          "name": "stdout",
          "text": [
            "Result, lvl 1: [([['a']], 2), ([['b']], 5), ([['c']], 4), ([['d']], 2), ([['e']], 2), ([['f']], 2)]\n",
            "--------------------------------------------------------------------------------------------------\n",
            "Result, LeveL 2: [([['b', 'd']], 2), ([['b', 'f']], 2), ([['c', 'e']], 2), ([['a'], ['b']], 2), ([['b'], ['b']], 3), ([['b'], ['c']], 4), ([['b'], ['e']], 2), ([['c'], ['b']], 3), ([['d'], ['b']], 2), ([['d'], ['c']], 2)]\n",
            "--------------------------------------------------------------------------------------------------\n",
            "Candidates generated, lvl 2: [[['a', 'b']], [['a', 'c']], [['a', 'd']], [['a', 'e']], [['a', 'f']], [['b', 'c']], [['b', 'd']], [['b', 'e']], [['b', 'f']], [['c', 'd']], [['c', 'e']], [['c', 'f']], [['d', 'e']], [['d', 'f']], [['e', 'f']], [['a'], ['a']], [['a'], ['b']], [['a'], ['c']], [['a'], ['d']], [['a'], ['e']], [['a'], ['f']], [['b'], ['a']], [['b'], ['b']], [['b'], ['c']], [['b'], ['d']], [['b'], ['e']], [['b'], ['f']], [['c'], ['a']], [['c'], ['b']], [['c'], ['c']], [['c'], ['d']], [['c'], ['e']], [['c'], ['f']], [['d'], ['a']], [['d'], ['b']], [['d'], ['c']], [['d'], ['d']], [['d'], ['e']], [['d'], ['f']], [['e'], ['a']], [['e'], ['b']], [['e'], ['c']], [['e'], ['d']], [['e'], ['e']], [['e'], ['f']], [['f'], ['a']], [['f'], ['b']], [['f'], ['c']], [['f'], ['d']], [['f'], ['e']], [['f'], ['f']]]\n",
            "\n",
            "\n",
            "Candidates pruned, lvl 2: [[['a', 'b']], [['a', 'c']], [['a', 'd']], [['a', 'e']], [['a', 'f']], [['b', 'c']], [['b', 'd']], [['b', 'e']], [['b', 'f']], [['c', 'd']], [['c', 'e']], [['c', 'f']], [['d', 'e']], [['d', 'f']], [['e', 'f']], [['a'], ['a']], [['a'], ['b']], [['a'], ['c']], [['a'], ['d']], [['a'], ['e']], [['a'], ['f']], [['b'], ['a']], [['b'], ['b']], [['b'], ['c']], [['b'], ['d']], [['b'], ['e']], [['b'], ['f']], [['c'], ['a']], [['c'], ['b']], [['c'], ['c']], [['c'], ['d']], [['c'], ['e']], [['c'], ['f']], [['d'], ['a']], [['d'], ['b']], [['d'], ['c']], [['d'], ['d']], [['d'], ['e']], [['d'], ['f']], [['e'], ['a']], [['e'], ['b']], [['e'], ['c']], [['e'], ['d']], [['e'], ['e']], [['e'], ['f']], [['f'], ['a']], [['f'], ['b']], [['f'], ['c']], [['f'], ['d']], [['f'], ['e']], [['f'], ['f']]]\n",
            "Result, LeveL 3: [([['b'], ['c'], ['b']], 3), ([['b'], ['c', 'e']], 2), ([['b', 'd'], ['b']], 2), ([['b', 'd'], ['c']], 2), ([['d'], ['c'], ['b']], 2)]\n",
            "--------------------------------------------------------------------------------------------------\n",
            "Candidates generated, lvl 3: [[['a'], ['b'], ['b']], [['a'], ['b'], ['c']], [['a'], ['b'], ['e']], [['a'], ['b', 'd']], [['a'], ['b', 'f']], [['b'], ['b'], ['b']], [['b'], ['b'], ['c']], [['b'], ['b'], ['e']], [['b'], ['b', 'd']], [['b'], ['b', 'f']], [['b'], ['c'], ['b']], [['b'], ['c', 'e']], [['b', 'd'], ['b']], [['b', 'd'], ['c']], [['c'], ['b'], ['b']], [['c'], ['b'], ['c']], [['c'], ['b'], ['e']], [['c'], ['b', 'd']], [['c'], ['b', 'f']], [['d'], ['b'], ['b']], [['d'], ['b'], ['c']], [['d'], ['b'], ['e']], [['d'], ['b', 'd']], [['d'], ['b', 'f']], [['d'], ['c'], ['b']], [['d'], ['c', 'e']]]\n",
            "\n",
            "\n",
            "Candidates pruned, lvl 3: [[['a'], ['b'], ['b']], [['b'], ['b'], ['b']], [['b'], ['b'], ['c']], [['b'], ['b'], ['e']], [['b'], ['c'], ['b']], [['b'], ['c', 'e']], [['b', 'd'], ['b']], [['b', 'd'], ['c']], [['c'], ['b'], ['b']], [['d'], ['b'], ['b']], [['d'], ['b'], ['c']], [['d'], ['c'], ['b']]]\n",
            "Result, LeveL 4: [([['b', 'd'], ['c'], ['b']], 2)]\n",
            "--------------------------------------------------------------------------------------------------\n",
            "Candidates generated, lvl 4: [[['b', 'd'], ['c'], ['b']]]\n",
            "\n",
            "\n",
            "Candidates pruned, lvl 4: [[['b', 'd'], ['c'], ['b']]]\n",
            "Result, LeveL 5: []\n",
            "--------------------------------------------------------------------------------------------------\n",
            "Candidates generated, lvl 5: []\n",
            "\n",
            "\n",
            "Candidates pruned, lvl 5: []\n"
          ]
        },
        {
          "output_type": "execute_result",
          "data": {
            "text/plain": [
              "[([['b']], 5),\n",
              " ([['c']], 4),\n",
              " ([['b'], ['c']], 4),\n",
              " ([['b'], ['b']], 3),\n",
              " ([['c'], ['b']], 3),\n",
              " ([['b'], ['c'], ['b']], 3),\n",
              " ([['a']], 2),\n",
              " ([['d']], 2),\n",
              " ([['e']], 2),\n",
              " ([['f']], 2),\n",
              " ([['b', 'd']], 2),\n",
              " ([['b', 'f']], 2),\n",
              " ([['c', 'e']], 2),\n",
              " ([['a'], ['b']], 2),\n",
              " ([['b'], ['e']], 2),\n",
              " ([['d'], ['b']], 2),\n",
              " ([['d'], ['c']], 2),\n",
              " ([['b'], ['c', 'e']], 2),\n",
              " ([['b', 'd'], ['b']], 2),\n",
              " ([['b', 'd'], ['c']], 2),\n",
              " ([['d'], ['c'], ['b']], 2),\n",
              " ([['b', 'd'], ['c'], ['b']], 2)]"
            ]
          },
          "metadata": {},
          "execution_count": 47
        }
      ],
      "source": [
        "gsp(dataset, min_sup=0.4, verbose=2)"
      ]
    }
  ],
  "metadata": {
    "kernelspec": {
      "display_name": "Python 3.10.3 64-bit",
      "language": "python",
      "name": "python3"
    },
    "language_info": {
      "codemirror_mode": {
        "name": "ipython",
        "version": 3
      },
      "file_extension": ".py",
      "mimetype": "text/x-python",
      "name": "python",
      "nbconvert_exporter": "python",
      "pygments_lexer": "ipython3",
      "version": "3.10.3"
    },
    "vscode": {
      "interpreter": {
        "hash": "43e4d72c8ad61331984bc36f87d846bb73452d1c2c0cb0d0679bd7cf00b5eb21"
      }
    },
    "colab": {
      "provenance": []
    }
  },
  "nbformat": 4,
  "nbformat_minor": 0
}