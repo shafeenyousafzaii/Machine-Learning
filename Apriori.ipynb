{
  "cells": [
    {
      "cell_type": "code",
      "execution_count": 2,
      "metadata": {
        "colab": {
          "base_uri": "https://localhost:8080/"
        },
        "id": "9Y2-6UCj0xrX",
        "outputId": "2c8c4d65-28e4-48f0-df0a-663d77af3aec"
      },
      "outputs": [],
      "source": [
        "transactions =[\n",
        "    [\"milk\", \"bread\", \"eggs\"],\n",
        "    [\"milk\", \"bread\", \"butter\"],\n",
        "    [\"milk\", \"bread\", \"eggs\", \"butter\"],\n",
        "    [\"bread\", \"eggs\"],\n",
        "    [\"milk\", \"butter\"]\n",
        "]"
      ]
    },
    {
      "cell_type": "code",
      "execution_count": 3,
      "metadata": {
        "colab": {
          "base_uri": "https://localhost:8080/"
        },
        "id": "np-vWaBq1mCo",
        "outputId": "58d15d07-0f2d-4e1d-d6c9-c0225fb86a38"
      },
      "outputs": [],
      "source": [
        "import pandas as pd\n",
        "from mlxtend.preprocessing import TransactionEncoder"
      ]
    },
    {
      "cell_type": "code",
      "execution_count": 4,
      "metadata": {
        "colab": {
          "base_uri": "https://localhost:8080/"
        },
        "id": "VhdWZ5O61-nf",
        "outputId": "fd1a7ec7-bac5-4e31-e7d5-1184dd19c1bc"
      },
      "outputs": [],
      "source": [
        "tranE= TransactionEncoder()"
      ]
    },
    {
      "cell_type": "code",
      "execution_count": 5,
      "metadata": {
        "colab": {
          "base_uri": "https://localhost:8080/"
        },
        "id": "P4nldk-1Ra99",
        "outputId": "cbe103c9-d335-4c52-b641-05543e9bfca2"
      },
      "outputs": [
        {
          "data": {
            "text/plain": [
              "['bread', 'butter', 'eggs', 'milk']"
            ]
          },
          "execution_count": 5,
          "metadata": {},
          "output_type": "execute_result"
        }
      ],
      "source": [
        "tranE.fit(transactions).columns_"
      ]
    },
    {
      "cell_type": "code",
      "execution_count": 6,
      "metadata": {
        "colab": {
          "base_uri": "https://localhost:8080/"
        },
        "id": "LNspoP2y2E0_",
        "outputId": "a41051e0-dc0e-4766-ac3e-570f27753467"
      },
      "outputs": [],
      "source": [
        "encodedT=tranE.fit_transform(transactions)"
      ]
    },
    {
      "cell_type": "code",
      "execution_count": 7,
      "metadata": {
        "colab": {
          "base_uri": "https://localhost:8080/"
        },
        "id": "bcvgc8I3tbPr",
        "outputId": "0d0493e4-f7c6-413f-c9ef-d1f5611555c7"
      },
      "outputs": [
        {
          "data": {
            "text/plain": [
              "array([[ True, False,  True,  True],\n",
              "       [ True,  True, False,  True],\n",
              "       [ True,  True,  True,  True],\n",
              "       [ True, False,  True, False],\n",
              "       [False,  True, False,  True]])"
            ]
          },
          "execution_count": 7,
          "metadata": {},
          "output_type": "execute_result"
        }
      ],
      "source": [
        "encodedT"
      ]
    },
    {
      "cell_type": "code",
      "execution_count": 8,
      "metadata": {
        "colab": {
          "base_uri": "https://localhost:8080/"
        },
        "id": "0572yKXz2lXk",
        "outputId": "5426f06d-6d46-4912-8bd8-737a882add2e"
      },
      "outputs": [],
      "source": [
        "df=pd.DataFrame(encodedT, columns=tranE.columns_)"
      ]
    },
    {
      "cell_type": "code",
      "execution_count": 9,
      "metadata": {
        "colab": {
          "base_uri": "https://localhost:8080/",
          "height": 262
        },
        "id": "P1DrbTkg264t",
        "outputId": "5cddcfaf-5c27-4f00-82bf-7ac5f7786a00"
      },
      "outputs": [
        {
          "data": {
            "text/html": [
              "<div>\n",
              "<style scoped>\n",
              "    .dataframe tbody tr th:only-of-type {\n",
              "        vertical-align: middle;\n",
              "    }\n",
              "\n",
              "    .dataframe tbody tr th {\n",
              "        vertical-align: top;\n",
              "    }\n",
              "\n",
              "    .dataframe thead th {\n",
              "        text-align: right;\n",
              "    }\n",
              "</style>\n",
              "<table border=\"1\" class=\"dataframe\">\n",
              "  <thead>\n",
              "    <tr style=\"text-align: right;\">\n",
              "      <th></th>\n",
              "      <th>bread</th>\n",
              "      <th>butter</th>\n",
              "      <th>eggs</th>\n",
              "      <th>milk</th>\n",
              "    </tr>\n",
              "  </thead>\n",
              "  <tbody>\n",
              "    <tr>\n",
              "      <th>0</th>\n",
              "      <td>True</td>\n",
              "      <td>False</td>\n",
              "      <td>True</td>\n",
              "      <td>True</td>\n",
              "    </tr>\n",
              "    <tr>\n",
              "      <th>1</th>\n",
              "      <td>True</td>\n",
              "      <td>True</td>\n",
              "      <td>False</td>\n",
              "      <td>True</td>\n",
              "    </tr>\n",
              "    <tr>\n",
              "      <th>2</th>\n",
              "      <td>True</td>\n",
              "      <td>True</td>\n",
              "      <td>True</td>\n",
              "      <td>True</td>\n",
              "    </tr>\n",
              "    <tr>\n",
              "      <th>3</th>\n",
              "      <td>True</td>\n",
              "      <td>False</td>\n",
              "      <td>True</td>\n",
              "      <td>False</td>\n",
              "    </tr>\n",
              "    <tr>\n",
              "      <th>4</th>\n",
              "      <td>False</td>\n",
              "      <td>True</td>\n",
              "      <td>False</td>\n",
              "      <td>True</td>\n",
              "    </tr>\n",
              "  </tbody>\n",
              "</table>\n",
              "</div>"
            ],
            "text/plain": [
              "   bread  butter   eggs   milk\n",
              "0   True   False   True   True\n",
              "1   True    True  False   True\n",
              "2   True    True   True   True\n",
              "3   True   False   True  False\n",
              "4  False    True  False   True"
            ]
          },
          "execution_count": 9,
          "metadata": {},
          "output_type": "execute_result"
        }
      ],
      "source": [
        "df"
      ]
    },
    {
      "cell_type": "code",
      "execution_count": 10,
      "metadata": {
        "colab": {
          "base_uri": "https://localhost:8080/"
        },
        "id": "pmogzx2pEihD",
        "outputId": "85f389fb-fbaf-4185-cc13-53f239607d4b"
      },
      "outputs": [],
      "source": [
        "from mlxtend.frequent_patterns import apriori\n",
        "freqItemsets=apriori(df,min_support=0.12,use_colnames=True)"
      ]
    },
    {
      "cell_type": "code",
      "execution_count": 11,
      "metadata": {
        "colab": {
          "base_uri": "https://localhost:8080/",
          "height": 576
        },
        "collapsed": true,
        "id": "gFOZeeJvGW55",
        "outputId": "02eb9cc7-85fb-425f-d4f1-7d27adc25da7"
      },
      "outputs": [
        {
          "data": {
            "text/html": [
              "<div>\n",
              "<style scoped>\n",
              "    .dataframe tbody tr th:only-of-type {\n",
              "        vertical-align: middle;\n",
              "    }\n",
              "\n",
              "    .dataframe tbody tr th {\n",
              "        vertical-align: top;\n",
              "    }\n",
              "\n",
              "    .dataframe thead th {\n",
              "        text-align: right;\n",
              "    }\n",
              "</style>\n",
              "<table border=\"1\" class=\"dataframe\">\n",
              "  <thead>\n",
              "    <tr style=\"text-align: right;\">\n",
              "      <th></th>\n",
              "      <th>support</th>\n",
              "      <th>itemsets</th>\n",
              "    </tr>\n",
              "  </thead>\n",
              "  <tbody>\n",
              "    <tr>\n",
              "      <th>0</th>\n",
              "      <td>0.8</td>\n",
              "      <td>(bread)</td>\n",
              "    </tr>\n",
              "    <tr>\n",
              "      <th>1</th>\n",
              "      <td>0.6</td>\n",
              "      <td>(butter)</td>\n",
              "    </tr>\n",
              "    <tr>\n",
              "      <th>2</th>\n",
              "      <td>0.6</td>\n",
              "      <td>(eggs)</td>\n",
              "    </tr>\n",
              "    <tr>\n",
              "      <th>3</th>\n",
              "      <td>0.8</td>\n",
              "      <td>(milk)</td>\n",
              "    </tr>\n",
              "    <tr>\n",
              "      <th>4</th>\n",
              "      <td>0.4</td>\n",
              "      <td>(bread, butter)</td>\n",
              "    </tr>\n",
              "    <tr>\n",
              "      <th>5</th>\n",
              "      <td>0.6</td>\n",
              "      <td>(bread, eggs)</td>\n",
              "    </tr>\n",
              "    <tr>\n",
              "      <th>6</th>\n",
              "      <td>0.6</td>\n",
              "      <td>(bread, milk)</td>\n",
              "    </tr>\n",
              "    <tr>\n",
              "      <th>7</th>\n",
              "      <td>0.2</td>\n",
              "      <td>(butter, eggs)</td>\n",
              "    </tr>\n",
              "    <tr>\n",
              "      <th>8</th>\n",
              "      <td>0.6</td>\n",
              "      <td>(butter, milk)</td>\n",
              "    </tr>\n",
              "    <tr>\n",
              "      <th>9</th>\n",
              "      <td>0.4</td>\n",
              "      <td>(eggs, milk)</td>\n",
              "    </tr>\n",
              "    <tr>\n",
              "      <th>10</th>\n",
              "      <td>0.2</td>\n",
              "      <td>(bread, butter, eggs)</td>\n",
              "    </tr>\n",
              "    <tr>\n",
              "      <th>11</th>\n",
              "      <td>0.4</td>\n",
              "      <td>(bread, butter, milk)</td>\n",
              "    </tr>\n",
              "    <tr>\n",
              "      <th>12</th>\n",
              "      <td>0.4</td>\n",
              "      <td>(bread, eggs, milk)</td>\n",
              "    </tr>\n",
              "    <tr>\n",
              "      <th>13</th>\n",
              "      <td>0.2</td>\n",
              "      <td>(butter, eggs, milk)</td>\n",
              "    </tr>\n",
              "    <tr>\n",
              "      <th>14</th>\n",
              "      <td>0.2</td>\n",
              "      <td>(bread, butter, eggs, milk)</td>\n",
              "    </tr>\n",
              "  </tbody>\n",
              "</table>\n",
              "</div>"
            ],
            "text/plain": [
              "    support                     itemsets\n",
              "0       0.8                      (bread)\n",
              "1       0.6                     (butter)\n",
              "2       0.6                       (eggs)\n",
              "3       0.8                       (milk)\n",
              "4       0.4              (bread, butter)\n",
              "5       0.6                (bread, eggs)\n",
              "6       0.6                (bread, milk)\n",
              "7       0.2               (butter, eggs)\n",
              "8       0.6               (butter, milk)\n",
              "9       0.4                 (eggs, milk)\n",
              "10      0.2        (bread, butter, eggs)\n",
              "11      0.4        (bread, butter, milk)\n",
              "12      0.4          (bread, eggs, milk)\n",
              "13      0.2         (butter, eggs, milk)\n",
              "14      0.2  (bread, butter, eggs, milk)"
            ]
          },
          "execution_count": 11,
          "metadata": {},
          "output_type": "execute_result"
        }
      ],
      "source": [
        "freqItemsets"
      ]
    },
    {
      "cell_type": "code",
      "execution_count": 12,
      "metadata": {
        "colab": {
          "base_uri": "https://localhost:8080/"
        },
        "id": "N8DfbhCqGa6c",
        "outputId": "a777f59b-d9c0-4e73-e021-2c623e98de21"
      },
      "outputs": [],
      "source": [
        "from mlxtend.frequent_patterns import association_rules\n",
        "rules= association_rules(freqItemsets,metric=\"confidence\",min_threshold=0.7)"
      ]
    },
    {
      "cell_type": "code",
      "execution_count": 13,
      "metadata": {
        "colab": {
          "base_uri": "https://localhost:8080/",
          "height": 550
        },
        "id": "zd1JwUYTItFZ",
        "outputId": "3023d708-f671-4b98-f8a6-187c35fa5415"
      },
      "outputs": [
        {
          "data": {
            "text/html": [
              "<div>\n",
              "<style scoped>\n",
              "    .dataframe tbody tr th:only-of-type {\n",
              "        vertical-align: middle;\n",
              "    }\n",
              "\n",
              "    .dataframe tbody tr th {\n",
              "        vertical-align: top;\n",
              "    }\n",
              "\n",
              "    .dataframe thead th {\n",
              "        text-align: right;\n",
              "    }\n",
              "</style>\n",
              "<table border=\"1\" class=\"dataframe\">\n",
              "  <thead>\n",
              "    <tr style=\"text-align: right;\">\n",
              "      <th></th>\n",
              "      <th>antecedents</th>\n",
              "      <th>consequents</th>\n",
              "      <th>antecedent support</th>\n",
              "      <th>consequent support</th>\n",
              "      <th>support</th>\n",
              "      <th>confidence</th>\n",
              "      <th>lift</th>\n",
              "      <th>leverage</th>\n",
              "      <th>conviction</th>\n",
              "      <th>zhangs_metric</th>\n",
              "    </tr>\n",
              "  </thead>\n",
              "  <tbody>\n",
              "    <tr>\n",
              "      <th>0</th>\n",
              "      <td>(bread)</td>\n",
              "      <td>(eggs)</td>\n",
              "      <td>0.8</td>\n",
              "      <td>0.6</td>\n",
              "      <td>0.6</td>\n",
              "      <td>0.75</td>\n",
              "      <td>1.250000</td>\n",
              "      <td>0.12</td>\n",
              "      <td>1.6</td>\n",
              "      <td>1.000000</td>\n",
              "    </tr>\n",
              "    <tr>\n",
              "      <th>1</th>\n",
              "      <td>(eggs)</td>\n",
              "      <td>(bread)</td>\n",
              "      <td>0.6</td>\n",
              "      <td>0.8</td>\n",
              "      <td>0.6</td>\n",
              "      <td>1.00</td>\n",
              "      <td>1.250000</td>\n",
              "      <td>0.12</td>\n",
              "      <td>inf</td>\n",
              "      <td>0.500000</td>\n",
              "    </tr>\n",
              "    <tr>\n",
              "      <th>2</th>\n",
              "      <td>(bread)</td>\n",
              "      <td>(milk)</td>\n",
              "      <td>0.8</td>\n",
              "      <td>0.8</td>\n",
              "      <td>0.6</td>\n",
              "      <td>0.75</td>\n",
              "      <td>0.937500</td>\n",
              "      <td>-0.04</td>\n",
              "      <td>0.8</td>\n",
              "      <td>-0.250000</td>\n",
              "    </tr>\n",
              "    <tr>\n",
              "      <th>3</th>\n",
              "      <td>(milk)</td>\n",
              "      <td>(bread)</td>\n",
              "      <td>0.8</td>\n",
              "      <td>0.8</td>\n",
              "      <td>0.6</td>\n",
              "      <td>0.75</td>\n",
              "      <td>0.937500</td>\n",
              "      <td>-0.04</td>\n",
              "      <td>0.8</td>\n",
              "      <td>-0.250000</td>\n",
              "    </tr>\n",
              "    <tr>\n",
              "      <th>4</th>\n",
              "      <td>(butter)</td>\n",
              "      <td>(milk)</td>\n",
              "      <td>0.6</td>\n",
              "      <td>0.8</td>\n",
              "      <td>0.6</td>\n",
              "      <td>1.00</td>\n",
              "      <td>1.250000</td>\n",
              "      <td>0.12</td>\n",
              "      <td>inf</td>\n",
              "      <td>0.500000</td>\n",
              "    </tr>\n",
              "    <tr>\n",
              "      <th>5</th>\n",
              "      <td>(milk)</td>\n",
              "      <td>(butter)</td>\n",
              "      <td>0.8</td>\n",
              "      <td>0.6</td>\n",
              "      <td>0.6</td>\n",
              "      <td>0.75</td>\n",
              "      <td>1.250000</td>\n",
              "      <td>0.12</td>\n",
              "      <td>1.6</td>\n",
              "      <td>1.000000</td>\n",
              "    </tr>\n",
              "    <tr>\n",
              "      <th>6</th>\n",
              "      <td>(butter, eggs)</td>\n",
              "      <td>(bread)</td>\n",
              "      <td>0.2</td>\n",
              "      <td>0.8</td>\n",
              "      <td>0.2</td>\n",
              "      <td>1.00</td>\n",
              "      <td>1.250000</td>\n",
              "      <td>0.04</td>\n",
              "      <td>inf</td>\n",
              "      <td>0.250000</td>\n",
              "    </tr>\n",
              "    <tr>\n",
              "      <th>7</th>\n",
              "      <td>(bread, butter)</td>\n",
              "      <td>(milk)</td>\n",
              "      <td>0.4</td>\n",
              "      <td>0.8</td>\n",
              "      <td>0.4</td>\n",
              "      <td>1.00</td>\n",
              "      <td>1.250000</td>\n",
              "      <td>0.08</td>\n",
              "      <td>inf</td>\n",
              "      <td>0.333333</td>\n",
              "    </tr>\n",
              "    <tr>\n",
              "      <th>8</th>\n",
              "      <td>(eggs, milk)</td>\n",
              "      <td>(bread)</td>\n",
              "      <td>0.4</td>\n",
              "      <td>0.8</td>\n",
              "      <td>0.4</td>\n",
              "      <td>1.00</td>\n",
              "      <td>1.250000</td>\n",
              "      <td>0.08</td>\n",
              "      <td>inf</td>\n",
              "      <td>0.333333</td>\n",
              "    </tr>\n",
              "    <tr>\n",
              "      <th>9</th>\n",
              "      <td>(butter, eggs)</td>\n",
              "      <td>(milk)</td>\n",
              "      <td>0.2</td>\n",
              "      <td>0.8</td>\n",
              "      <td>0.2</td>\n",
              "      <td>1.00</td>\n",
              "      <td>1.250000</td>\n",
              "      <td>0.04</td>\n",
              "      <td>inf</td>\n",
              "      <td>0.250000</td>\n",
              "    </tr>\n",
              "    <tr>\n",
              "      <th>10</th>\n",
              "      <td>(bread, butter, eggs)</td>\n",
              "      <td>(milk)</td>\n",
              "      <td>0.2</td>\n",
              "      <td>0.8</td>\n",
              "      <td>0.2</td>\n",
              "      <td>1.00</td>\n",
              "      <td>1.250000</td>\n",
              "      <td>0.04</td>\n",
              "      <td>inf</td>\n",
              "      <td>0.250000</td>\n",
              "    </tr>\n",
              "    <tr>\n",
              "      <th>11</th>\n",
              "      <td>(butter, eggs, milk)</td>\n",
              "      <td>(bread)</td>\n",
              "      <td>0.2</td>\n",
              "      <td>0.8</td>\n",
              "      <td>0.2</td>\n",
              "      <td>1.00</td>\n",
              "      <td>1.250000</td>\n",
              "      <td>0.04</td>\n",
              "      <td>inf</td>\n",
              "      <td>0.250000</td>\n",
              "    </tr>\n",
              "    <tr>\n",
              "      <th>12</th>\n",
              "      <td>(butter, eggs)</td>\n",
              "      <td>(bread, milk)</td>\n",
              "      <td>0.2</td>\n",
              "      <td>0.6</td>\n",
              "      <td>0.2</td>\n",
              "      <td>1.00</td>\n",
              "      <td>1.666667</td>\n",
              "      <td>0.08</td>\n",
              "      <td>inf</td>\n",
              "      <td>0.500000</td>\n",
              "    </tr>\n",
              "  </tbody>\n",
              "</table>\n",
              "</div>"
            ],
            "text/plain": [
              "              antecedents    consequents  antecedent support  \\\n",
              "0                 (bread)         (eggs)                 0.8   \n",
              "1                  (eggs)        (bread)                 0.6   \n",
              "2                 (bread)         (milk)                 0.8   \n",
              "3                  (milk)        (bread)                 0.8   \n",
              "4                (butter)         (milk)                 0.6   \n",
              "5                  (milk)       (butter)                 0.8   \n",
              "6          (butter, eggs)        (bread)                 0.2   \n",
              "7         (bread, butter)         (milk)                 0.4   \n",
              "8            (eggs, milk)        (bread)                 0.4   \n",
              "9          (butter, eggs)         (milk)                 0.2   \n",
              "10  (bread, butter, eggs)         (milk)                 0.2   \n",
              "11   (butter, eggs, milk)        (bread)                 0.2   \n",
              "12         (butter, eggs)  (bread, milk)                 0.2   \n",
              "\n",
              "    consequent support  support  confidence      lift  leverage  conviction  \\\n",
              "0                  0.6      0.6        0.75  1.250000      0.12         1.6   \n",
              "1                  0.8      0.6        1.00  1.250000      0.12         inf   \n",
              "2                  0.8      0.6        0.75  0.937500     -0.04         0.8   \n",
              "3                  0.8      0.6        0.75  0.937500     -0.04         0.8   \n",
              "4                  0.8      0.6        1.00  1.250000      0.12         inf   \n",
              "5                  0.6      0.6        0.75  1.250000      0.12         1.6   \n",
              "6                  0.8      0.2        1.00  1.250000      0.04         inf   \n",
              "7                  0.8      0.4        1.00  1.250000      0.08         inf   \n",
              "8                  0.8      0.4        1.00  1.250000      0.08         inf   \n",
              "9                  0.8      0.2        1.00  1.250000      0.04         inf   \n",
              "10                 0.8      0.2        1.00  1.250000      0.04         inf   \n",
              "11                 0.8      0.2        1.00  1.250000      0.04         inf   \n",
              "12                 0.6      0.2        1.00  1.666667      0.08         inf   \n",
              "\n",
              "    zhangs_metric  \n",
              "0        1.000000  \n",
              "1        0.500000  \n",
              "2       -0.250000  \n",
              "3       -0.250000  \n",
              "4        0.500000  \n",
              "5        1.000000  \n",
              "6        0.250000  \n",
              "7        0.333333  \n",
              "8        0.333333  \n",
              "9        0.250000  \n",
              "10       0.250000  \n",
              "11       0.250000  \n",
              "12       0.500000  "
            ]
          },
          "execution_count": 13,
          "metadata": {},
          "output_type": "execute_result"
        }
      ],
      "source": [
        "rules"
      ]
    },
    {
      "cell_type": "code",
      "execution_count": 14,
      "metadata": {
        "colab": {
          "base_uri": "https://localhost:8080/"
        },
        "id": "Ydz8n_zoJ0PC",
        "outputId": "6e108875-e021-43ae-f0df-2beca3b8d214"
      },
      "outputs": [],
      "source": [
        "limitedCol=rules[['antecedents','consequents','support','confidence','lift']]"
      ]
    },
    {
      "cell_type": "code",
      "execution_count": 15,
      "metadata": {
        "colab": {
          "base_uri": "https://localhost:8080/",
          "height": 513
        },
        "id": "GWeK1msgLdHK",
        "outputId": "1bc94387-3f41-4ff9-e02b-44469a40afd1"
      },
      "outputs": [
        {
          "data": {
            "text/html": [
              "<div>\n",
              "<style scoped>\n",
              "    .dataframe tbody tr th:only-of-type {\n",
              "        vertical-align: middle;\n",
              "    }\n",
              "\n",
              "    .dataframe tbody tr th {\n",
              "        vertical-align: top;\n",
              "    }\n",
              "\n",
              "    .dataframe thead th {\n",
              "        text-align: right;\n",
              "    }\n",
              "</style>\n",
              "<table border=\"1\" class=\"dataframe\">\n",
              "  <thead>\n",
              "    <tr style=\"text-align: right;\">\n",
              "      <th></th>\n",
              "      <th>antecedents</th>\n",
              "      <th>consequents</th>\n",
              "      <th>support</th>\n",
              "      <th>confidence</th>\n",
              "      <th>lift</th>\n",
              "    </tr>\n",
              "  </thead>\n",
              "  <tbody>\n",
              "    <tr>\n",
              "      <th>0</th>\n",
              "      <td>(bread)</td>\n",
              "      <td>(eggs)</td>\n",
              "      <td>0.6</td>\n",
              "      <td>0.75</td>\n",
              "      <td>1.250000</td>\n",
              "    </tr>\n",
              "    <tr>\n",
              "      <th>1</th>\n",
              "      <td>(eggs)</td>\n",
              "      <td>(bread)</td>\n",
              "      <td>0.6</td>\n",
              "      <td>1.00</td>\n",
              "      <td>1.250000</td>\n",
              "    </tr>\n",
              "    <tr>\n",
              "      <th>2</th>\n",
              "      <td>(bread)</td>\n",
              "      <td>(milk)</td>\n",
              "      <td>0.6</td>\n",
              "      <td>0.75</td>\n",
              "      <td>0.937500</td>\n",
              "    </tr>\n",
              "    <tr>\n",
              "      <th>3</th>\n",
              "      <td>(milk)</td>\n",
              "      <td>(bread)</td>\n",
              "      <td>0.6</td>\n",
              "      <td>0.75</td>\n",
              "      <td>0.937500</td>\n",
              "    </tr>\n",
              "    <tr>\n",
              "      <th>4</th>\n",
              "      <td>(butter)</td>\n",
              "      <td>(milk)</td>\n",
              "      <td>0.6</td>\n",
              "      <td>1.00</td>\n",
              "      <td>1.250000</td>\n",
              "    </tr>\n",
              "    <tr>\n",
              "      <th>5</th>\n",
              "      <td>(milk)</td>\n",
              "      <td>(butter)</td>\n",
              "      <td>0.6</td>\n",
              "      <td>0.75</td>\n",
              "      <td>1.250000</td>\n",
              "    </tr>\n",
              "    <tr>\n",
              "      <th>6</th>\n",
              "      <td>(butter, eggs)</td>\n",
              "      <td>(bread)</td>\n",
              "      <td>0.2</td>\n",
              "      <td>1.00</td>\n",
              "      <td>1.250000</td>\n",
              "    </tr>\n",
              "    <tr>\n",
              "      <th>7</th>\n",
              "      <td>(bread, butter)</td>\n",
              "      <td>(milk)</td>\n",
              "      <td>0.4</td>\n",
              "      <td>1.00</td>\n",
              "      <td>1.250000</td>\n",
              "    </tr>\n",
              "    <tr>\n",
              "      <th>8</th>\n",
              "      <td>(eggs, milk)</td>\n",
              "      <td>(bread)</td>\n",
              "      <td>0.4</td>\n",
              "      <td>1.00</td>\n",
              "      <td>1.250000</td>\n",
              "    </tr>\n",
              "    <tr>\n",
              "      <th>9</th>\n",
              "      <td>(butter, eggs)</td>\n",
              "      <td>(milk)</td>\n",
              "      <td>0.2</td>\n",
              "      <td>1.00</td>\n",
              "      <td>1.250000</td>\n",
              "    </tr>\n",
              "    <tr>\n",
              "      <th>10</th>\n",
              "      <td>(bread, butter, eggs)</td>\n",
              "      <td>(milk)</td>\n",
              "      <td>0.2</td>\n",
              "      <td>1.00</td>\n",
              "      <td>1.250000</td>\n",
              "    </tr>\n",
              "    <tr>\n",
              "      <th>11</th>\n",
              "      <td>(butter, eggs, milk)</td>\n",
              "      <td>(bread)</td>\n",
              "      <td>0.2</td>\n",
              "      <td>1.00</td>\n",
              "      <td>1.250000</td>\n",
              "    </tr>\n",
              "    <tr>\n",
              "      <th>12</th>\n",
              "      <td>(butter, eggs)</td>\n",
              "      <td>(bread, milk)</td>\n",
              "      <td>0.2</td>\n",
              "      <td>1.00</td>\n",
              "      <td>1.666667</td>\n",
              "    </tr>\n",
              "  </tbody>\n",
              "</table>\n",
              "</div>"
            ],
            "text/plain": [
              "              antecedents    consequents  support  confidence      lift\n",
              "0                 (bread)         (eggs)      0.6        0.75  1.250000\n",
              "1                  (eggs)        (bread)      0.6        1.00  1.250000\n",
              "2                 (bread)         (milk)      0.6        0.75  0.937500\n",
              "3                  (milk)        (bread)      0.6        0.75  0.937500\n",
              "4                (butter)         (milk)      0.6        1.00  1.250000\n",
              "5                  (milk)       (butter)      0.6        0.75  1.250000\n",
              "6          (butter, eggs)        (bread)      0.2        1.00  1.250000\n",
              "7         (bread, butter)         (milk)      0.4        1.00  1.250000\n",
              "8            (eggs, milk)        (bread)      0.4        1.00  1.250000\n",
              "9          (butter, eggs)         (milk)      0.2        1.00  1.250000\n",
              "10  (bread, butter, eggs)         (milk)      0.2        1.00  1.250000\n",
              "11   (butter, eggs, milk)        (bread)      0.2        1.00  1.250000\n",
              "12         (butter, eggs)  (bread, milk)      0.2        1.00  1.666667"
            ]
          },
          "execution_count": 15,
          "metadata": {},
          "output_type": "execute_result"
        }
      ],
      "source": [
        "limitedCol"
      ]
    },
    {
      "cell_type": "code",
      "execution_count": 16,
      "metadata": {
        "colab": {
          "base_uri": "https://localhost:8080/",
          "height": 388
        },
        "id": "AkSgGfrVM4PT",
        "outputId": "968225c9-5423-4cff-d370-1b8771471791"
      },
      "outputs": [
        {
          "data": {
            "text/html": [
              "<div>\n",
              "<style scoped>\n",
              "    .dataframe tbody tr th:only-of-type {\n",
              "        vertical-align: middle;\n",
              "    }\n",
              "\n",
              "    .dataframe tbody tr th {\n",
              "        vertical-align: top;\n",
              "    }\n",
              "\n",
              "    .dataframe thead th {\n",
              "        text-align: right;\n",
              "    }\n",
              "</style>\n",
              "<table border=\"1\" class=\"dataframe\">\n",
              "  <thead>\n",
              "    <tr style=\"text-align: right;\">\n",
              "      <th></th>\n",
              "      <th>antecedents</th>\n",
              "      <th>consequents</th>\n",
              "      <th>support</th>\n",
              "      <th>confidence</th>\n",
              "      <th>lift</th>\n",
              "    </tr>\n",
              "  </thead>\n",
              "  <tbody>\n",
              "    <tr>\n",
              "      <th>1</th>\n",
              "      <td>(eggs)</td>\n",
              "      <td>(bread)</td>\n",
              "      <td>0.6</td>\n",
              "      <td>1.0</td>\n",
              "      <td>1.250000</td>\n",
              "    </tr>\n",
              "    <tr>\n",
              "      <th>4</th>\n",
              "      <td>(butter)</td>\n",
              "      <td>(milk)</td>\n",
              "      <td>0.6</td>\n",
              "      <td>1.0</td>\n",
              "      <td>1.250000</td>\n",
              "    </tr>\n",
              "    <tr>\n",
              "      <th>6</th>\n",
              "      <td>(butter, eggs)</td>\n",
              "      <td>(bread)</td>\n",
              "      <td>0.2</td>\n",
              "      <td>1.0</td>\n",
              "      <td>1.250000</td>\n",
              "    </tr>\n",
              "    <tr>\n",
              "      <th>7</th>\n",
              "      <td>(bread, butter)</td>\n",
              "      <td>(milk)</td>\n",
              "      <td>0.4</td>\n",
              "      <td>1.0</td>\n",
              "      <td>1.250000</td>\n",
              "    </tr>\n",
              "    <tr>\n",
              "      <th>8</th>\n",
              "      <td>(eggs, milk)</td>\n",
              "      <td>(bread)</td>\n",
              "      <td>0.4</td>\n",
              "      <td>1.0</td>\n",
              "      <td>1.250000</td>\n",
              "    </tr>\n",
              "    <tr>\n",
              "      <th>9</th>\n",
              "      <td>(butter, eggs)</td>\n",
              "      <td>(milk)</td>\n",
              "      <td>0.2</td>\n",
              "      <td>1.0</td>\n",
              "      <td>1.250000</td>\n",
              "    </tr>\n",
              "    <tr>\n",
              "      <th>10</th>\n",
              "      <td>(bread, butter, eggs)</td>\n",
              "      <td>(milk)</td>\n",
              "      <td>0.2</td>\n",
              "      <td>1.0</td>\n",
              "      <td>1.250000</td>\n",
              "    </tr>\n",
              "    <tr>\n",
              "      <th>11</th>\n",
              "      <td>(butter, eggs, milk)</td>\n",
              "      <td>(bread)</td>\n",
              "      <td>0.2</td>\n",
              "      <td>1.0</td>\n",
              "      <td>1.250000</td>\n",
              "    </tr>\n",
              "    <tr>\n",
              "      <th>12</th>\n",
              "      <td>(butter, eggs)</td>\n",
              "      <td>(bread, milk)</td>\n",
              "      <td>0.2</td>\n",
              "      <td>1.0</td>\n",
              "      <td>1.666667</td>\n",
              "    </tr>\n",
              "  </tbody>\n",
              "</table>\n",
              "</div>"
            ],
            "text/plain": [
              "              antecedents    consequents  support  confidence      lift\n",
              "1                  (eggs)        (bread)      0.6         1.0  1.250000\n",
              "4                (butter)         (milk)      0.6         1.0  1.250000\n",
              "6          (butter, eggs)        (bread)      0.2         1.0  1.250000\n",
              "7         (bread, butter)         (milk)      0.4         1.0  1.250000\n",
              "8            (eggs, milk)        (bread)      0.4         1.0  1.250000\n",
              "9          (butter, eggs)         (milk)      0.2         1.0  1.250000\n",
              "10  (bread, butter, eggs)         (milk)      0.2         1.0  1.250000\n",
              "11   (butter, eggs, milk)        (bread)      0.2         1.0  1.250000\n",
              "12         (butter, eggs)  (bread, milk)      0.2         1.0  1.666667"
            ]
          },
          "execution_count": 16,
          "metadata": {},
          "output_type": "execute_result"
        }
      ],
      "source": [
        "limitedCol[limitedCol['confidence']>=1]"
      ]
    },
    {
      "cell_type": "code",
      "execution_count": null,
      "metadata": {
        "colab": {
          "base_uri": "https://localhost:8080/"
        },
        "id": "L4W3dNQ9NNlC",
        "outputId": "13ea4502-1b7e-4186-b25a-2b429d3094a8"
      },
      "outputs": [],
      "source": []
    },
    {
      "cell_type": "code",
      "execution_count": null,
      "metadata": {
        "colab": {
          "base_uri": "https://localhost:8080/"
        },
        "id": "fclId1ot_vgd",
        "outputId": "5adeea7c-6b52-4c39-ab74-7c47f4122446"
      },
      "outputs": [],
      "source": []
    },
    {
      "cell_type": "code",
      "execution_count": 17,
      "metadata": {
        "colab": {
          "base_uri": "https://localhost:8080/"
        },
        "id": "HsOQyruhAKaF",
        "outputId": "b2112841-252d-45ce-b7ab-85084d3841bc"
      },
      "outputs": [
        {
          "name": "stdout",
          "output_type": "stream",
          "text": [
            "824 μs ± 33.7 μs per loop (mean ± std. dev. of 7 runs, 1,000 loops each)\n",
            "2.31 ms ± 148 μs per loop (mean ± std. dev. of 7 runs, 100 loops each)\n"
          ]
        }
      ],
      "source": [
        "from mlxtend.frequent_patterns import fpgrowth\n",
        "%timeit fpgrowth(df,min_support=0.12,use_colnames=True)\n",
        "%timeit apriori(df,min_support=0.12,use_colnames=True)\n"
      ]
    }
  ],
  "metadata": {
    "colab": {
      "provenance": []
    },
    "kernelspec": {
      "display_name": "Python 3",
      "name": "python3"
    },
    "language_info": {
      "codemirror_mode": {
        "name": "ipython",
        "version": 3
      },
      "file_extension": ".py",
      "mimetype": "text/x-python",
      "name": "python",
      "nbconvert_exporter": "python",
      "pygments_lexer": "ipython3",
      "version": "3.12.4"
    }
  },
  "nbformat": 4,
  "nbformat_minor": 0
}
