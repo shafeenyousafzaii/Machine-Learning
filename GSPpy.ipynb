{
  "nbformat": 4,
  "nbformat_minor": 0,
  "metadata": {
    "colab": {
      "provenance": []
    },
    "kernelspec": {
      "name": "python3",
      "display_name": "Python 3"
    },
    "language_info": {
      "name": "python"
    }
  },
  "cells": [
    {
      "cell_type": "code",
      "execution_count": null,
      "metadata": {
        "colab": {
          "base_uri": "https://localhost:8080/"
        },
        "id": "srV-kgVKTewy",
        "outputId": "25397941-d7f7-455d-f02d-87bdd7157e63"
      },
      "outputs": [
        {
          "output_type": "stream",
          "name": "stdout",
          "text": [
            "Requirement already satisfied: gsppy in /usr/local/lib/python3.10/dist-packages (1.1)\n"
          ]
        }
      ],
      "source": [
        "!pip install gsppy\n",
        "from gsppy.gsp import GSP"
      ]
    },
    {
      "cell_type": "code",
      "source": [
        "\n",
        "transactions = [\n",
        "            ['Bread', 'Milk'],\n",
        "            ['Bread', 'Diaper', 'Beer', 'Eggs'],\n",
        "            ['Milk', 'Diaper', 'Beer', 'Coke'],\n",
        "            ['Bread', 'Milk', 'Diaper', 'Beer'],\n",
        "            ['Bread', 'Milk', 'Diaper', 'Coke']\n",
        "        ]"
      ],
      "metadata": {
        "id": "OWkM58lqUR88"
      },
      "execution_count": null,
      "outputs": []
    },
    {
      "cell_type": "code",
      "source": [
        "result = GSP(transactions).search(0.3\n",
        "                            )"
      ],
      "metadata": {
        "id": "tNI1G2s8UWiT"
      },
      "execution_count": null,
      "outputs": []
    },
    {
      "cell_type": "code",
      "source": [
        "result\n"
      ],
      "metadata": {
        "colab": {
          "base_uri": "https://localhost:8080/"
        },
        "id": "RHgYRHSdUcHT",
        "outputId": "8503133d-cebf-4b7f-d059-ece28c765e97"
      },
      "execution_count": null,
      "outputs": [
        {
          "output_type": "execute_result",
          "data": {
            "text/plain": [
              "[{('Bread',): 4, ('Milk',): 4, ('Diaper',): 4, ('Beer',): 3, ('Coke',): 2},\n",
              " {('Bread', 'Milk'): 3, ('Diaper', 'Beer'): 3, ('Milk', 'Diaper'): 3},\n",
              " {('Bread', 'Milk', 'Diaper'): 2, ('Milk', 'Diaper', 'Beer'): 2}]"
            ]
          },
          "metadata": {},
          "execution_count": 22
        }
      ]
    },
    {
      "cell_type": "code",
      "source": [],
      "metadata": {
        "id": "NnDKzF0ZUfpE"
      },
      "execution_count": null,
      "outputs": []
    }
  ]
}