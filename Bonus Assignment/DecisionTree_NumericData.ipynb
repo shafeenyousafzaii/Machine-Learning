{
 "cells": [
  {
   "cell_type": "code",
   "execution_count": 3,
   "metadata": {},
   "outputs": [],
   "source": [
    "import pandas as pd\n",
    "from sklearn.tree import DecisionTreeClassifier\n",
    "from sklearn.model_selection import train_test_split\n",
    "from sklearn.metrics import accuracy_score"
   ]
  },
  {
   "cell_type": "code",
   "execution_count": 4,
   "metadata": {},
   "outputs": [],
   "source": [
    "data = {\n",
    "    'Feature A': [1, 2, 1, 3, 1, 2, 3, 2, 1, 3],\n",
    "    'Feature B': [10, 8, 12, 6, 14, 9, 11, 15, 7, 13],\n",
    "    'Feature C': [5, 7, 6, 2, 4, 3, 1, 8, 3, 2],\n",
    "    'Feature D': [6, 4, 7, 9, 8, 5, 3, 4, 2, 7],\n",
    "    'Target':   [1, 1, 1, 0, 1, 0, 0, 1, 0, 0]\n",
    "}"
   ]
  },
  {
   "cell_type": "code",
   "execution_count": 5,
   "metadata": {},
   "outputs": [],
   "source": [
    "df = pd.DataFrame(data)"
   ]
  },
  {
   "cell_type": "code",
   "execution_count": 6,
   "metadata": {},
   "outputs": [],
   "source": [
    "X = df[['Feature A', 'Feature B', 'Feature C', 'Feature D']]\n",
    "y = df['Target']"
   ]
  },
  {
   "cell_type": "code",
   "execution_count": 7,
   "metadata": {},
   "outputs": [],
   "source": [
    "X_train, X_test, y_train, y_test = train_test_split(X, y, test_size=0.3, random_state=42)"
   ]
  },
  {
   "cell_type": "code",
   "execution_count": 8,
   "metadata": {},
   "outputs": [],
   "source": [
    "X_train_low_trust = X_train[['Feature A', 'Feature B']]\n",
    "X_test_low_trust = X_test[['Feature A', 'Feature B']]"
   ]
  },
  {
   "cell_type": "code",
   "execution_count": 9,
   "metadata": {},
   "outputs": [],
   "source": [
    "clf_low_trust = DecisionTreeClassifier(random_state=42)\n",
    "clf_low_trust.fit(X_train_low_trust, y_train)\n",
    "y_pred_low_trust = clf_low_trust.predict(X_test_low_trust)"
   ]
  },
  {
   "cell_type": "code",
   "execution_count": 10,
   "metadata": {},
   "outputs": [
    {
     "name": "stdout",
     "output_type": "stream",
     "text": [
      "Accuracy with low-trust features: 0.3333333333333333\n"
     ]
    }
   ],
   "source": [
    "print(\"Accuracy with low-trust features:\", accuracy_score(y_test, y_pred_low_trust))"
   ]
  },
  {
   "cell_type": "code",
   "execution_count": 11,
   "metadata": {},
   "outputs": [],
   "source": [
    "X_train_high_trust = X_train[['Feature C', 'Feature D']]\n",
    "X_test_high_trust = X_test[['Feature C', 'Feature D']]"
   ]
  },
  {
   "cell_type": "code",
   "execution_count": 12,
   "metadata": {},
   "outputs": [],
   "source": [
    "clf_high_trust = DecisionTreeClassifier(random_state=42)\n",
    "clf_high_trust.fit(X_train_high_trust, y_train)\n",
    "y_pred_high_trust = clf_high_trust.predict(X_test_high_trust)"
   ]
  },
  {
   "cell_type": "code",
   "execution_count": 13,
   "metadata": {},
   "outputs": [
    {
     "name": "stdout",
     "output_type": "stream",
     "text": [
      "Accuracy with high-trust features: 1.0\n"
     ]
    }
   ],
   "source": [
    "print(\"Accuracy with high-trust features:\", accuracy_score(y_test, y_pred_high_trust))"
   ]
  }
 ],
 "metadata": {
  "kernelspec": {
   "display_name": "Python 3",
   "language": "python",
   "name": "python3"
  },
  "language_info": {
   "codemirror_mode": {
    "name": "ipython",
    "version": 3
   },
   "file_extension": ".py",
   "mimetype": "text/x-python",
   "name": "python",
   "nbconvert_exporter": "python",
   "pygments_lexer": "ipython3",
   "version": "3.10.14"
  }
 },
 "nbformat": 4,
 "nbformat_minor": 2
}
