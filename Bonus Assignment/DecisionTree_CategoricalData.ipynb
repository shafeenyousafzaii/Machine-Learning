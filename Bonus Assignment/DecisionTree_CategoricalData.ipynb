{
 "cells": [
  {
   "cell_type": "code",
   "execution_count": 123,
   "metadata": {},
   "outputs": [],
   "source": [
    "import pandas as pd\n",
    "from sklearn.tree import DecisionTreeClassifier\n",
    "from sklearn.model_selection import train_test_split\n",
    "from sklearn.metrics import accuracy_score\n"
   ]
  },
  {
   "cell_type": "code",
   "execution_count": 124,
   "metadata": {},
   "outputs": [],
   "source": [
    "data = {\n",
    "    'Color': ['Red', 'Blue', 'Green', 'Black', 'Blue', 'Red', 'Green', 'Black', 'Red', 'Green'],\n",
    "    'Size': ['Full', 'Medium', 'Standard', 'Full', 'Standard', 'Medium', 'Full', 'Medium', 'Standard', 'Full'],\n",
    "    'Model': ['G15 5510', 'G15 5515', 'G15 5520', 'G15 5510', 'G15 5515', 'G15 5510', 'G15 5515', 'G15 5520', 'G15 5510', 'G15 5520'],\n",
    "    'Material': ['Plastic', 'Metal', 'Plastic', 'Plastic', 'Metal', 'Plastic', 'Metal', 'Plastic', 'Plastic', 'Plastic'],\n",
    "    'Target': [1, 1, 1, 0, 1, 0, 0, 1, 0, 1]\n",
    "}"
   ]
  },
  {
   "cell_type": "code",
   "execution_count": 125,
   "metadata": {},
   "outputs": [],
   "source": [
    "df = pd.DataFrame(data)\n"
   ]
  },
  {
   "cell_type": "code",
   "execution_count": 126,
   "metadata": {},
   "outputs": [
    {
     "data": {
      "text/html": [
       "<div>\n",
       "<style scoped>\n",
       "    .dataframe tbody tr th:only-of-type {\n",
       "        vertical-align: middle;\n",
       "    }\n",
       "\n",
       "    .dataframe tbody tr th {\n",
       "        vertical-align: top;\n",
       "    }\n",
       "\n",
       "    .dataframe thead th {\n",
       "        text-align: right;\n",
       "    }\n",
       "</style>\n",
       "<table border=\"1\" class=\"dataframe\">\n",
       "  <thead>\n",
       "    <tr style=\"text-align: right;\">\n",
       "      <th></th>\n",
       "      <th>Color</th>\n",
       "      <th>Size</th>\n",
       "      <th>Model</th>\n",
       "      <th>Material</th>\n",
       "      <th>Target</th>\n",
       "    </tr>\n",
       "  </thead>\n",
       "  <tbody>\n",
       "    <tr>\n",
       "      <th>0</th>\n",
       "      <td>Red</td>\n",
       "      <td>Full</td>\n",
       "      <td>G15 5510</td>\n",
       "      <td>Plastic</td>\n",
       "      <td>1</td>\n",
       "    </tr>\n",
       "    <tr>\n",
       "      <th>1</th>\n",
       "      <td>Blue</td>\n",
       "      <td>Medium</td>\n",
       "      <td>G15 5515</td>\n",
       "      <td>Metal</td>\n",
       "      <td>1</td>\n",
       "    </tr>\n",
       "    <tr>\n",
       "      <th>2</th>\n",
       "      <td>Green</td>\n",
       "      <td>Standard</td>\n",
       "      <td>G15 5520</td>\n",
       "      <td>Plastic</td>\n",
       "      <td>1</td>\n",
       "    </tr>\n",
       "    <tr>\n",
       "      <th>3</th>\n",
       "      <td>Black</td>\n",
       "      <td>Full</td>\n",
       "      <td>G15 5510</td>\n",
       "      <td>Plastic</td>\n",
       "      <td>0</td>\n",
       "    </tr>\n",
       "    <tr>\n",
       "      <th>4</th>\n",
       "      <td>Blue</td>\n",
       "      <td>Standard</td>\n",
       "      <td>G15 5515</td>\n",
       "      <td>Metal</td>\n",
       "      <td>1</td>\n",
       "    </tr>\n",
       "    <tr>\n",
       "      <th>5</th>\n",
       "      <td>Red</td>\n",
       "      <td>Medium</td>\n",
       "      <td>G15 5510</td>\n",
       "      <td>Plastic</td>\n",
       "      <td>0</td>\n",
       "    </tr>\n",
       "    <tr>\n",
       "      <th>6</th>\n",
       "      <td>Green</td>\n",
       "      <td>Full</td>\n",
       "      <td>G15 5515</td>\n",
       "      <td>Metal</td>\n",
       "      <td>0</td>\n",
       "    </tr>\n",
       "    <tr>\n",
       "      <th>7</th>\n",
       "      <td>Black</td>\n",
       "      <td>Medium</td>\n",
       "      <td>G15 5520</td>\n",
       "      <td>Plastic</td>\n",
       "      <td>1</td>\n",
       "    </tr>\n",
       "    <tr>\n",
       "      <th>8</th>\n",
       "      <td>Red</td>\n",
       "      <td>Standard</td>\n",
       "      <td>G15 5510</td>\n",
       "      <td>Plastic</td>\n",
       "      <td>0</td>\n",
       "    </tr>\n",
       "    <tr>\n",
       "      <th>9</th>\n",
       "      <td>Green</td>\n",
       "      <td>Full</td>\n",
       "      <td>G15 5520</td>\n",
       "      <td>Plastic</td>\n",
       "      <td>1</td>\n",
       "    </tr>\n",
       "  </tbody>\n",
       "</table>\n",
       "</div>"
      ],
      "text/plain": [
       "   Color      Size     Model Material  Target\n",
       "0    Red      Full  G15 5510  Plastic       1\n",
       "1   Blue    Medium  G15 5515    Metal       1\n",
       "2  Green  Standard  G15 5520  Plastic       1\n",
       "3  Black      Full  G15 5510  Plastic       0\n",
       "4   Blue  Standard  G15 5515    Metal       1\n",
       "5    Red    Medium  G15 5510  Plastic       0\n",
       "6  Green      Full  G15 5515    Metal       0\n",
       "7  Black    Medium  G15 5520  Plastic       1\n",
       "8    Red  Standard  G15 5510  Plastic       0\n",
       "9  Green      Full  G15 5520  Plastic       1"
      ]
     },
     "execution_count": 126,
     "metadata": {},
     "output_type": "execute_result"
    }
   ],
   "source": [
    "df"
   ]
  },
  {
   "cell_type": "code",
   "execution_count": 127,
   "metadata": {},
   "outputs": [],
   "source": [
    "df_encoded = pd.get_dummies(df[['Color', 'Size', 'Model', 'Material']])\n"
   ]
  },
  {
   "cell_type": "code",
   "execution_count": 128,
   "metadata": {},
   "outputs": [],
   "source": [
    "y = df['Target']\n"
   ]
  },
  {
   "cell_type": "code",
   "execution_count": 129,
   "metadata": {},
   "outputs": [],
   "source": [
    "X_low_trust = df_encoded[['Color_Blue', 'Color_Green', 'Color_Red', 'Color_Black',\n",
    "                          'Size_Full', 'Size_Medium', 'Size_Standard']]\n",
    "\n",
    "X_high_trust = df_encoded[['Model_G15 5510', 'Model_G15 5515', 'Model_G15 5520',\n",
    "                           'Material_Metal', 'Material_Plastic']]"
   ]
  },
  {
   "cell_type": "code",
   "execution_count": 130,
   "metadata": {},
   "outputs": [],
   "source": [
    "X_train_low, X_test_low, y_train_low, y_test_low = train_test_split(X_low_trust, y, test_size=0.2, random_state=42)\n",
    "X_train_high, X_test_high, y_train_high, y_test_high = train_test_split(X_high_trust, y, test_size=0.3, random_state=42)"
   ]
  },
  {
   "cell_type": "code",
   "execution_count": 131,
   "metadata": {},
   "outputs": [],
   "source": [
    "clf_low = DecisionTreeClassifier(random_state=42)\n",
    "clf_low.fit(X_train_low, y_train_low)\n",
    "y_pred_low = clf_low.predict(X_test_low)"
   ]
  },
  {
   "cell_type": "code",
   "execution_count": 132,
   "metadata": {},
   "outputs": [
    {
     "name": "stdout",
     "output_type": "stream",
     "text": [
      "Accuracy with low-trust features: 0.0\n"
     ]
    }
   ],
   "source": [
    "print(\"Accuracy with low-trust features:\", accuracy_score(y_test_low, y_pred_low))\n"
   ]
  },
  {
   "cell_type": "code",
   "execution_count": 133,
   "metadata": {},
   "outputs": [],
   "source": [
    "clf_high = DecisionTreeClassifier(random_state=42)\n",
    "clf_high.fit(X_train_high, y_train_high)\n",
    "y_pred_high = clf_high.predict(X_test_high)"
   ]
  },
  {
   "cell_type": "code",
   "execution_count": 134,
   "metadata": {},
   "outputs": [
    {
     "name": "stdout",
     "output_type": "stream",
     "text": [
      "Accuracy with high-trust features: 0.6666666666666666\n"
     ]
    }
   ],
   "source": [
    "print(\"Accuracy with high-trust features:\", accuracy_score(y_test_high, y_pred_high))"
   ]
  },
  {
   "cell_type": "code",
   "execution_count": null,
   "metadata": {},
   "outputs": [],
   "source": []
  }
 ],
 "metadata": {
  "kernelspec": {
   "display_name": "Python 3",
   "language": "python",
   "name": "python3"
  },
  "language_info": {
   "codemirror_mode": {
    "name": "ipython",
    "version": 3
   },
   "file_extension": ".py",
   "mimetype": "text/x-python",
   "name": "python",
   "nbconvert_exporter": "python",
   "pygments_lexer": "ipython3",
   "version": "3.10.14"
  }
 },
 "nbformat": 4,
 "nbformat_minor": 2
}
